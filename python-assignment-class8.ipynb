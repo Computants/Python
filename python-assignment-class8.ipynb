
#1-print value 1000 to 990 with (while and for loop)


counter=1000
while counter>=990:
    
	print(counter)
    
	counter -= 1

for i in reversed(range(1001)):
    
	print(i)
    
	if i==990: break

------------

#2- with assci code 65-90, 97-122, 48-57 print chracters base on above range with for loop

for i in range(65,91):

    print("Character of ASCII code " + str(i) + " = " + chr(i))

for i in range(97,123):

    print("Character of ASCII code " + str(i) + " = " + chr(i))

for i in range(48,58):

    print("Character of ASCII code " + str(i) + " = " + chr(i))
-----------

#3- 
n = input("Enter number please:")

print("User eneted number is: " + n)


if n == "3":
    for i in range(1,4):

        for ii in range(1,11):

            print(str(i) + " x " + str(ii) + " = " + str(i * ii))