{
 "cells": [
  {
   "cell_type": "markdown",
   "metadata": {},
   "source": [
    "# Python Mega Assignment # 1"
   ]
  },
  {
   "cell_type": "markdown",
   "metadata": {},
   "source": [
    "1. Which of the following terms are related to dictionaries?\n",
    "a,b,d"
   ]
  },
  {
   "cell_type": "markdown",
   "metadata": {},
   "source": [
    "2. Just like lists, + operator is used to extend dictionaries?\n",
    "b. False"
   ]
  },
  {
   "cell_type": "markdown",
   "metadata": {},
   "source": [
    "3. To access items from a dictionary, we specify the index of that item within [] like myDict[0]?\n",
    "b. False"
   ]
  },
  {
   "cell_type": "code",
   "execution_count": 10,
   "metadata": {},
   "outputs": [
    {
     "name": "stdout",
     "output_type": "stream",
     "text": [
      "Badar\n"
     ]
    },
    {
     "ename": "KeyError",
     "evalue": "0",
     "output_type": "error",
     "traceback": [
      "\u001b[1;31m---------------------------------------------------------------------------\u001b[0m",
      "\u001b[1;31mKeyError\u001b[0m                                  Traceback (most recent call last)",
      "\u001b[1;32m<ipython-input-10-e08fe38eb5d9>\u001b[0m in \u001b[0;36m<module>\u001b[1;34m\u001b[0m\n\u001b[0;32m      1\u001b[0m \u001b[0mdict\u001b[0m \u001b[1;33m=\u001b[0m \u001b[1;33m{\u001b[0m\u001b[1;34m\"name\"\u001b[0m\u001b[1;33m:\u001b[0m \u001b[1;34m\"Badar\"\u001b[0m\u001b[1;33m}\u001b[0m\u001b[1;33m\u001b[0m\u001b[1;33m\u001b[0m\u001b[0m\n\u001b[0;32m      2\u001b[0m \u001b[0mprint\u001b[0m\u001b[1;33m(\u001b[0m\u001b[0mdict\u001b[0m\u001b[1;33m[\u001b[0m\u001b[1;34m\"name\"\u001b[0m\u001b[1;33m]\u001b[0m\u001b[1;33m)\u001b[0m\u001b[1;33m\u001b[0m\u001b[1;33m\u001b[0m\u001b[0m\n\u001b[1;32m----> 3\u001b[1;33m \u001b[0mprint\u001b[0m\u001b[1;33m(\u001b[0m\u001b[0mdict\u001b[0m\u001b[1;33m[\u001b[0m\u001b[1;36m0\u001b[0m\u001b[1;33m]\u001b[0m\u001b[1;33m)\u001b[0m\u001b[1;33m\u001b[0m\u001b[1;33m\u001b[0m\u001b[0m\n\u001b[0m",
      "\u001b[1;31mKeyError\u001b[0m: 0"
     ]
    }
   ],
   "source": [
    "dict = {\"name\": \"Badar\"}\n",
    "print(dict[\"name\"])\n",
    "print(dict[0])\n"
   ]
  },
  {
   "cell_type": "markdown",
   "metadata": {},
   "source": [
    "4. When we use [] to access the value from a dictionary which does not exist in that dictionary….?\n",
    "d. None"
   ]
  },
  {
   "cell_type": "code",
   "execution_count": 14,
   "metadata": {},
   "outputs": [
    {
     "ename": "KeyError",
     "evalue": "'id'",
     "output_type": "error",
     "traceback": [
      "\u001b[1;31m---------------------------------------------------------------------------\u001b[0m",
      "\u001b[1;31mKeyError\u001b[0m                                  Traceback (most recent call last)",
      "\u001b[1;32m<ipython-input-14-75477628a6ed>\u001b[0m in \u001b[0;36m<module>\u001b[1;34m\u001b[0m\n\u001b[1;32m----> 1\u001b[1;33m \u001b[0mprint\u001b[0m\u001b[1;33m(\u001b[0m\u001b[0mdict\u001b[0m\u001b[1;33m[\u001b[0m\u001b[1;34m\"id\"\u001b[0m\u001b[1;33m]\u001b[0m\u001b[1;33m)\u001b[0m\u001b[1;33m\u001b[0m\u001b[1;33m\u001b[0m\u001b[0m\n\u001b[0m",
      "\u001b[1;31mKeyError\u001b[0m: 'id'"
     ]
    }
   ],
   "source": [
    "print(dict[\"id\"])"
   ]
  },
  {
   "cell_type": "markdown",
   "metadata": {},
   "source": [
    "5. What does return the pop method of a dictionary?\n",
    "d. value of the key, if it exists in the dictionary"
   ]
  },
  {
   "cell_type": "code",
   "execution_count": 25,
   "metadata": {},
   "outputs": [
    {
     "name": "stdout",
     "output_type": "stream",
     "text": [
      "2\n"
     ]
    },
    {
     "data": {
      "text/plain": [
       "{'name': 'badar'}"
      ]
     },
     "execution_count": 25,
     "metadata": {},
     "output_type": "execute_result"
    }
   ],
   "source": [
    "dict1 = {\"name\":\"badar\",\"id\":2}\n",
    "print(dict1[\"id\"])\n",
    "dict1.pop(\"id\")\n",
    "dict1\n",
    "#print(dict1[\"id\"])\n"
   ]
  },
  {
   "cell_type": "markdown",
   "metadata": {},
   "source": [
    "6. What does return popitem method return? b. tupple containing the pair of last item of the dictionary"
   ]
  },
  {
   "cell_type": "code",
   "execution_count": 27,
   "metadata": {},
   "outputs": [
    {
     "data": {
      "text/plain": [
       "{'id': 2, 'name': 'badar'}"
      ]
     },
     "execution_count": 27,
     "metadata": {},
     "output_type": "execute_result"
    }
   ],
   "source": [
    "dict2={\"id\":2, \"name\":\"badar\",\"class\":\"AIC\"}\n",
    "dict2.popitem()\n",
    "dict2"
   ]
  },
  {
   "cell_type": "markdown",
   "metadata": {},
   "source": [
    "7. Which of the following 2 methods can be used to iterate through the items of a dictionary? a. items(), b, values()"
   ]
  },
  {
   "cell_type": "markdown",
   "metadata": {},
   "source": [
    "8. Which one of the following is used to enclose a dictionary? b. {} curly brackets"
   ]
  },
  {
   "cell_type": "markdown",
   "metadata": {},
   "source": [
    "9. Write Python Program add key-value pair in dictionary and check if a Given Key or Value or Both Exists in a Dictionary or Not.\n"
   ]
  },
  {
   "cell_type": "code",
   "execution_count": 62,
   "metadata": {},
   "outputs": [
    {
     "name": "stdout",
     "output_type": "stream",
     "text": [
      "dict_items([('msg1', 'my name is badar'), ('msg2', 'class is AIC')])\n",
      "dict_keys(['msg1', 'msg2'])\n",
      "msg1\n",
      "m\n",
      "msg2\n",
      "m\n",
      "key exists\n",
      "key not exisits\n",
      "value exists\n",
      "Both key and value exists\n"
     ]
    }
   ],
   "source": [
    "dict3 = {\"msg1\":\"my name is badar\", \"msg2\":\"class is AIC\"}\n",
    "listofitems = dict3.items()\n",
    "print(listofitems)\n",
    "print(dict3.keys())\n",
    "for item in dict3.keys():\n",
    "    print(item)\n",
    "    print(item[0])\n",
    "    \n",
    "if \"msg2\" in dict3.keys():\n",
    "        print(\"key exists\")\n",
    "else:\n",
    "    print(\"key not exisits\")\n",
    "    \n",
    "if \"msg3\" in dict3.keys():\n",
    "        print(\"key exists\")\n",
    "else:\n",
    "    print(\"key not exisits\")\n",
    "    \n",
    "if \"my name is badar\" in dict3.values():\n",
    "        print(\"value exists\")\n",
    "else:\n",
    "    print(\"value not exisits\")\n",
    "    \n",
    "for key, val in dict3.items():\n",
    "    if key == \"msg2\" and val == \"class is AIC\":\n",
    "        print(\"Both key and value exists\")"
   ]
  },
  {
   "cell_type": "markdown",
   "metadata": {},
   "source": [
    "10. Write a Python Program to Count the Frequency of Words Appearing in a String Using a Dictionary and print only the words having Even (divisible by 2) frequency."
   ]
  },
  {
   "cell_type": "code",
   "execution_count": 65,
   "metadata": {},
   "outputs": [
    {
     "ename": "SyntaxError",
     "evalue": "invalid syntax (<ipython-input-65-628874ebdcf1>, line 4)",
     "output_type": "error",
     "traceback": [
      "\u001b[1;36m  File \u001b[1;32m\"<ipython-input-65-628874ebdcf1>\"\u001b[1;36m, line \u001b[1;32m4\u001b[0m\n\u001b[1;33m    for i in range(0,len(s))\u001b[0m\n\u001b[1;37m                            ^\u001b[0m\n\u001b[1;31mSyntaxError\u001b[0m\u001b[1;31m:\u001b[0m invalid syntax\n"
     ]
    }
   ],
   "source": [
    "str = \"Trump is silly and foolish and crazy person\"\n",
    "s = str.split()\n",
    "s\n",
    "for i in range(0,len(s))\n",
    "    "
   ]
  },
  {
   "cell_type": "markdown",
   "metadata": {},
   "source": [
    "11. X = [\"Feb\", Apr, Mar, May, Jun, Jul, Aug, Jan]. What will be output of following? X[0:3] X[2:8]\n",
    "X[4:9] X[1:7:2] X[-1:-7] X[-7:7] X[-1:-8:-2] X[:4]"
   ]
  },
  {
   "cell_type": "code",
   "execution_count": 68,
   "metadata": {},
   "outputs": [
    {
     "name": "stdout",
     "output_type": "stream",
     "text": [
      "['Feb', 'Apr', 'Mar']\n",
      "['Mar', 'May', 'Jun', 'Jul', 'Aug', 'Jan']\n",
      "['Jun', 'Jul', 'Aug', 'Jan']\n",
      "['Apr', 'May', 'Jul']\n",
      "[]\n",
      "['Apr', 'Mar', 'May', 'Jun', 'Jul', 'Aug']\n",
      "['Jan', 'Jul', 'May', 'Apr']\n",
      "['Feb', 'Apr', 'Mar', 'May']\n"
     ]
    }
   ],
   "source": [
    "X = [\"Feb\", \"Apr\", \"Mar\", \"May\", \"Jun\", \"Jul\", \"Aug\", \"Jan\"]\n",
    "print(X[0:3])\n",
    "print(X[2:8])\n",
    "print(X[4:9])\n",
    "print(X[1:7:2])\n",
    "print(X[-1:-7])\n",
    "print(X[-7:7])\n",
    "print(X[-1:-8:-2])\n",
    "print(X[:4])"
   ]
  },
  {
   "cell_type": "raw",
   "metadata": {},
   "source": [
    "12. Remove the correct number from the list X\n",
    "X = [ 9,2,8,4,5]\n",
    "X__?__\n",
    "print (X)\n",
    "Output: [2,8,4,5]\n",
    "1) .delete(9) 2) .rm(9) 3) .remove(9)"
   ]
  },
  {
   "cell_type": "code",
   "execution_count": 70,
   "metadata": {},
   "outputs": [
    {
     "data": {
      "text/plain": [
       "[2, 8, 4, 5]"
      ]
     },
     "execution_count": 70,
     "metadata": {},
     "output_type": "execute_result"
    }
   ],
   "source": [
    "X = [ 9,2,8,4,5]\n",
    "X.remove(9)\n",
    "X\n"
   ]
  },
  {
   "cell_type": "raw",
   "metadata": {},
   "source": [
    "13. p = 3\n",
    "q = 'hello! '\n",
    "print( q __?__ p)\n",
    "hello! hello! hello!"
   ]
  },
  {
   "cell_type": "code",
   "execution_count": 74,
   "metadata": {},
   "outputs": [
    {
     "name": "stdout",
     "output_type": "stream",
     "text": [
      "hello! hello! hello! \n"
     ]
    }
   ],
   "source": [
    "p=3\n",
    "q = 'hello! '\n",
    "print(q*p)\n"
   ]
  },
  {
   "cell_type": "raw",
   "metadata": {},
   "source": [
    "14. y = \"this is a random sentence\"\n",
    "print (y__?__)\n",
    "Output: THIS IS A RANDOM SENTENCE\n",
    "    1) .upper()\n",
    "2) .upcase()\n",
    "3) .capitalize()"
   ]
  },
  {
   "cell_type": "code",
   "execution_count": 80,
   "metadata": {},
   "outputs": [
    {
     "name": "stdout",
     "output_type": "stream",
     "text": [
      "THIS IS A RANDOM SENTENCE\n"
     ]
    }
   ],
   "source": [
    "y = \"this is a random sentence\"\n",
    "print(y.upper())"
   ]
  },
  {
   "cell_type": "code",
   "execution_count": 81,
   "metadata": {},
   "outputs": [
    {
     "name": "stdout",
     "output_type": "stream",
     "text": [
      "<class 'bool'>\n",
      "<class 'str'>\n",
      "<class 'float'>\n"
     ]
    },
    {
     "ename": "NameError",
     "evalue": "name 's' is not defined",
     "output_type": "error",
     "traceback": [
      "\u001b[1;31m---------------------------------------------------------------------------\u001b[0m",
      "\u001b[1;31mNameError\u001b[0m                                 Traceback (most recent call last)",
      "\u001b[1;32m<ipython-input-81-b277001e368b>\u001b[0m in \u001b[0;36m<module>\u001b[1;34m\u001b[0m\n\u001b[0;32m      6\u001b[0m \u001b[0mprint\u001b[0m\u001b[1;33m(\u001b[0m\u001b[0mtype\u001b[0m\u001b[1;33m(\u001b[0m\u001b[0mq\u001b[0m\u001b[1;33m)\u001b[0m\u001b[1;33m)\u001b[0m\u001b[1;33m\u001b[0m\u001b[1;33m\u001b[0m\u001b[0m\n\u001b[0;32m      7\u001b[0m \u001b[0mprint\u001b[0m\u001b[1;33m(\u001b[0m\u001b[0mtype\u001b[0m\u001b[1;33m(\u001b[0m\u001b[0mr\u001b[0m\u001b[1;33m)\u001b[0m\u001b[1;33m)\u001b[0m\u001b[1;33m\u001b[0m\u001b[1;33m\u001b[0m\u001b[0m\n\u001b[1;32m----> 8\u001b[1;33m \u001b[0mprint\u001b[0m\u001b[1;33m(\u001b[0m\u001b[0mtype\u001b[0m\u001b[1;33m(\u001b[0m\u001b[0ms\u001b[0m\u001b[1;33m)\u001b[0m\u001b[1;33m)\u001b[0m\u001b[1;33m\u001b[0m\u001b[1;33m\u001b[0m\u001b[0m\n\u001b[0m",
      "\u001b[1;31mNameError\u001b[0m: name 's' is not defined"
     ]
    }
   ],
   "source": [
    "p = True\n",
    "q = 'True'\n",
    "r = 2\n",
    "r = 2.0\n",
    "print(type(p))\n",
    "print(type(q))\n",
    "print(type(r))\n",
    "print(type(s))"
   ]
  },
  {
   "cell_type": "raw",
   "metadata": {},
   "source": [
    "16. What are the optional arguments to the function?\n",
    "function_1(R1, q, p=None, R2= None)\n",
    "1) q and R2\n",
    "2) p and R2\n",
    "3) p and R1\n",
    "4) R1 and q"
   ]
  },
  {
   "cell_type": "raw",
   "metadata": {},
   "source": [
    "2) p and R2"
   ]
  },
  {
   "cell_type": "raw",
   "metadata": {},
   "source": [
    "17. Which command invokes method X() of the object p?\n",
    "1) X(p)\n",
    "2) p$x()\n",
    "3) X().p\n",
    "4) p.x()\n",
    "\n",
    "ANS: 4)"
   ]
  },
  {
   "cell_type": "code",
   "execution_count": 85,
   "metadata": {},
   "outputs": [
    {
     "name": "stdout",
     "output_type": "stream",
     "text": [
      "0\n",
      "2.0\n",
      "2\n",
      "2\n"
     ]
    }
   ],
   "source": [
    "#18. \n",
    "X=4 \n",
    "Y= 2\n",
    "print(X % Y)\n",
    "print(X / Y)\n",
    "print(X // Y)\n",
    "print(Y % X)"
   ]
  },
  {
   "cell_type": "code",
   "execution_count": 86,
   "metadata": {},
   "outputs": [
    {
     "name": "stdout",
     "output_type": "stream",
     "text": [
      "4\n",
      "1\n",
      "1\n",
      "5\n",
      "9\n",
      "0\n"
     ]
    }
   ],
   "source": [
    "#19\n",
    "x = [[4, 1, 1], [5, 9, 0]]\n",
    "for i in range(0,2):\n",
    "    for j in range(0,3):\n",
    "        print(x[i][j])"
   ]
  },
  {
   "cell_type": "code",
   "execution_count": 87,
   "metadata": {},
   "outputs": [
    {
     "name": "stdout",
     "output_type": "stream",
     "text": [
      "4\t5\t\n",
      "\n",
      "1\t9\t\n",
      "\n",
      "1\t0\t\n",
      "\n"
     ]
    }
   ],
   "source": [
    "#19\n",
    "x = [[4, 1, 1], [5, 9, 0]]\n",
    "for i in range(0,3):\n",
    "    for j in range(0,2):\n",
    "        print(x[j][i], end='\\t')\n",
    "    print('\\n')"
   ]
  },
  {
   "cell_type": "code",
   "execution_count": 88,
   "metadata": {},
   "outputs": [
    {
     "name": "stdout",
     "output_type": "stream",
     "text": [
      "4\t1\t1\t5\t9\t0\t"
     ]
    }
   ],
   "source": [
    "#19\n",
    "x = [[4, 1, 1], [5, 9, 0]]\n",
    "for i in range(0,2):\n",
    "    for j in range(0,3):\n",
    "        print(x[i][j], end = '\\t')"
   ]
  },
  {
   "cell_type": "code",
   "execution_count": 90,
   "metadata": {},
   "outputs": [
    {
     "name": "stdout",
     "output_type": "stream",
     "text": [
      "4\t1\t1\t\n",
      "\n",
      "5\t9\t0\t\n",
      "\n"
     ]
    }
   ],
   "source": [
    "#19\n",
    "x = [[4, 1, 1], [5, 9, 0]]\n",
    "for i in range(0,2):\n",
    "    for j in range(0,3):\n",
    "        print(x[i][j], end = '\\t')\n",
    "    print('\\n')"
   ]
  },
  {
   "cell_type": "code",
   "execution_count": 2,
   "metadata": {},
   "outputs": [
    {
     "name": "stdout",
     "output_type": "stream",
     "text": [
      "Item 0-10.62\n",
      "Item 1-16.14\n",
      "Item 2-6.45\n",
      "Item 3-17.11\n"
     ]
    }
   ],
   "source": [
    "#20\n",
    "q=[10.62, 16.14, 6.45, 17.11]\n",
    "for j, z in enumerate(q):\n",
    "    print('Item '+ str(j) + '-' +str(z))"
   ]
  },
  {
   "cell_type": "markdown",
   "metadata": {},
   "source": [
    "21. Which of these about a dictionary is false?\n",
    "c) Dictionaries aren’t ordered\n"
   ]
  },
  {
   "cell_type": "code",
   "execution_count": 3,
   "metadata": {},
   "outputs": [],
   "source": [
    "def increment_score ( score, bonus = True , points = 1 ):\n",
    "    pass"
   ]
  },
  {
   "cell_type": "code",
   "execution_count": 4,
   "metadata": {},
   "outputs": [
    {
     "name": "stdout",
     "output_type": "stream",
     "text": [
      "11.333333333333334\n"
     ]
    }
   ],
   "source": [
    "#24\n",
    "def avg ( x , y , z = 50 ):\n",
    "    adding = x + y + z\n",
    "    avg_value = adding / 3\n",
    "    return avg_value\n",
    "y = avg ( x = 5 , y = 9 , z = 20 )\n",
    "print(y)"
   ]
  },
  {
   "cell_type": "code",
   "execution_count": 6,
   "metadata": {},
   "outputs": [],
   "source": [
    "#23 True False True"
   ]
  },
  {
   "cell_type": "code",
   "execution_count": 23,
   "metadata": {},
   "outputs": [
    {
     "ename": "TypeError",
     "evalue": "avg() missing 1 required keyword-only argument: 'name'",
     "output_type": "error",
     "traceback": [
      "\u001b[1;31m---------------------------------------------------------------------------\u001b[0m",
      "\u001b[1;31mTypeError\u001b[0m                                 Traceback (most recent call last)",
      "\u001b[1;32m<ipython-input-23-fe211fcfea3e>\u001b[0m in \u001b[0;36m<module>\u001b[1;34m\u001b[0m\n\u001b[0;32m      4\u001b[0m     \u001b[0mprint\u001b[0m\u001b[1;33m(\u001b[0m\u001b[1;34m'name is: '\u001b[0m \u001b[1;33m+\u001b[0m \u001b[0mname\u001b[0m \u001b[1;33m+\u001b[0m \u001b[1;34m'Marks:'\u001b[0m  \u001b[1;33m+\u001b[0m \u001b[0mstr\u001b[0m\u001b[1;33m(\u001b[0m\u001b[0mavg_value\u001b[0m\u001b[1;33m)\u001b[0m\u001b[1;33m)\u001b[0m\u001b[1;33m\u001b[0m\u001b[1;33m\u001b[0m\u001b[0m\n\u001b[0;32m      5\u001b[0m \u001b[1;31m#avg ( 5 , 9 , 20, 34, 87, 112 , ‘Ali’ )\u001b[0m\u001b[1;33m\u001b[0m\u001b[1;33m\u001b[0m\u001b[1;33m\u001b[0m\u001b[0m\n\u001b[1;32m----> 6\u001b[1;33m \u001b[0mavg\u001b[0m \u001b[1;33m(\u001b[0m\u001b[1;36m5\u001b[0m \u001b[1;33m,\u001b[0m \u001b[1;36m9\u001b[0m \u001b[1;33m,\u001b[0m \u001b[1;36m20\u001b[0m\u001b[1;33m,\u001b[0m \u001b[1;36m34\u001b[0m\u001b[1;33m,\u001b[0m \u001b[1;36m87\u001b[0m\u001b[1;33m,\u001b[0m \u001b[1;36m112\u001b[0m\u001b[1;33m,\u001b[0m\u001b[1;34m'Ali'\u001b[0m \u001b[1;33m)\u001b[0m\u001b[1;33m\u001b[0m\u001b[1;33m\u001b[0m\u001b[0m\n\u001b[0m",
      "\u001b[1;31mTypeError\u001b[0m: avg() missing 1 required keyword-only argument: 'name'"
     ]
    }
   ],
   "source": [
    "#25\n",
    "def avg(* opt_values, name):\n",
    "    avg_value = sum (opt_values) / len(opt_values)\n",
    "    print('name is: ' + name + 'Marks:'  + str(avg_value))\n",
    "#avg ( 5 , 9 , 20, 34, 87, 112 , ‘Ali’ )\n",
    "avg (5 , 9 , 20, 34, 87, 112,'Ali' )"
   ]
  },
  {
   "cell_type": "markdown",
   "metadata": {},
   "source": [
    "Ali is string which is an issue, and name is invalid parameter"
   ]
  },
  {
   "cell_type": "code",
   "execution_count": 24,
   "metadata": {},
   "outputs": [
    {
     "name": "stdout",
     "output_type": "stream",
     "text": [
      "Name is: Ali Marks: 44.5\n"
     ]
    }
   ],
   "source": [
    "def avg ( name, *opt_values): \n",
    "# For dynamic arguments use * \n",
    "    avg_value = sum (opt_values) / len(opt_values)\n",
    "    print('Name is: ' + name + ' Marks: ' + str(avg_value))\n",
    "    \n",
    "avg ('Ali', 5 , 9 , 20, 34, 87, 112 )"
   ]
  },
  {
   "cell_type": "code",
   "execution_count": 30,
   "metadata": {},
   "outputs": [
    {
     "name": "stdout",
     "output_type": "stream",
     "text": [
      "The winner was Manchester\n",
      "The score was 1-0\n"
     ]
    }
   ],
   "source": [
    "#26\n",
    "def display_result(winner, score, **other_info): \n",
    "    print(\"The winner was \" + winner)\n",
    "    print(\"The score was \" + score)\n",
    "display_result(winner = \"Manchester\", score=\"1-0\", overtime =\"yes\", injuries=\"none\")"
   ]
  },
  {
   "cell_type": "code",
   "execution_count": 37,
   "metadata": {},
   "outputs": [
    {
     "name": "stdout",
     "output_type": "stream",
     "text": [
      "The winner was Manchester\n",
      "The score was 1-0\n"
     ]
    }
   ],
   "source": [
    "#27 ** will be in last position\n",
    "def display_result(winner,  score, **other_info):\n",
    "    print(\"The winner was \" + winner)\n",
    "    print(\"The score was \" + score)\n",
    "display_result(winner='Manchester', score='1-0', overtime =\"yes\", injuries=\"none\" )"
   ]
  },
  {
   "cell_type": "raw",
   "metadata": {},
   "source": [
    "28. What will be the output of the following Python expression if X=123 ANS b)000123"
   ]
  },
  {
   "cell_type": "code",
   "execution_count": 41,
   "metadata": {},
   "outputs": [
    {
     "name": "stdout",
     "output_type": "stream",
     "text": [
      "000123\n"
     ]
    }
   ],
   "source": [
    "\n",
    "X = 123\n",
    "print('%06d'%X) # 6 digits integer"
   ]
  },
  {
   "cell_type": "code",
   "execution_count": 43,
   "metadata": {},
   "outputs": [
    {
     "name": "stdout",
     "output_type": "stream",
     "text": [
      "22.19\n"
     ]
    }
   ],
   "source": [
    "#29 ANS C.)\n",
    "x=22.19\n",
    "print(\"%5.2f\"%x) # 2 points after decimal"
   ]
  },
  {
   "cell_type": "raw",
   "metadata": {},
   "source": [
    "#30\n",
    "30. What will be the output of the following Python code?\n",
    "'{0:f}, {1:2f}, {2:05.2f}'.format(1.23456, 1.23456, 1.23456)\n",
    "\n",
    "d) ‘1.234560, 1.234560, 01.23’"
   ]
  },
  {
   "cell_type": "code",
   "execution_count": 44,
   "metadata": {},
   "outputs": [],
   "source": [
    "#31\n",
    "i = 0\n",
    "while False: # False will never work\n",
    "# if we change loop to true then an infnite loop will start as\n",
    "    '''\n",
    "    1\n",
    "    3\n",
    "    5\n",
    "    7\n",
    "    ...\n",
    "    \n",
    "    '''\n",
    "    if i%2 == 0:\n",
    "        break\n",
    "    print(i)\n",
    "    i += 2"
   ]
  },
  {
   "cell_type": "code",
   "execution_count": 45,
   "metadata": {},
   "outputs": [
    {
     "name": "stdout",
     "output_type": "stream",
     "text": [
      "a a a a a a "
     ]
    },
    {
     "data": {
      "text/plain": [
       "''"
      ]
     },
     "execution_count": 45,
     "metadata": {},
     "output_type": "execute_result"
    }
   ],
   "source": [
    "#32\n",
    "x = \"abcdef\"\n",
    "i = \"a\"\n",
    "while i in x:\n",
    "    x = x[:-1]\n",
    "    print(i, end = \" \")\n",
    "x"
   ]
  },
  {
   "cell_type": "code",
   "execution_count": 48,
   "metadata": {},
   "outputs": [
    {
     "name": "stdout",
     "output_type": "stream",
     "text": [
      "d\n",
      "c\n",
      "b\n",
      "a\n"
     ]
    }
   ],
   "source": [
    "#33\n",
    "for i in ''.join(reversed(list('abcd'))):\n",
    "    print (i)"
   ]
  },
  {
   "cell_type": "code",
   "execution_count": 49,
   "metadata": {},
   "outputs": [
    {
     "name": "stdout",
     "output_type": "stream",
     "text": [
      "0\n",
      "1\n",
      "2\n",
      "3\n",
      "4\n",
      "Here\n"
     ]
    }
   ],
   "source": [
    "#34\n",
    "for i in range(10):\n",
    "    if i == 5:\n",
    "        break\n",
    "    else:\n",
    "        print(i)\n",
    "\n",
    "print(\"Here\")"
   ]
  },
  {
   "cell_type": "code",
   "execution_count": 50,
   "metadata": {},
   "outputs": [
    {
     "name": "stdout",
     "output_type": "stream",
     "text": [
      "48\n"
     ]
    }
   ],
   "source": [
    "#35\n",
    "\n",
    "y = 6\n",
    "z = lambda x: x * y  \n",
    "# lambda argument(s): expression\n",
    "print(z(8))"
   ]
  },
  {
   "cell_type": "code",
   "execution_count": 51,
   "metadata": {},
   "outputs": [
    {
     "name": "stdout",
     "output_type": "stream",
     "text": [
      "0\n"
     ]
    }
   ],
   "source": [
    "#36\n",
    "i=0\n",
    "def change(i):\n",
    "    i=i+1\n",
    "    return i\n",
    "change(1)\n",
    "print(i)\n"
   ]
  },
  {
   "cell_type": "code",
   "execution_count": 58,
   "metadata": {},
   "outputs": [
    {
     "name": "stdout",
     "output_type": "stream",
     "text": [
      "<class 'tuple'>\n",
      "(2, 3, 4)\n",
      "1\n",
      "<class 'int'>\n"
     ]
    }
   ],
   "source": [
    "#40\n",
    "def change(one, *two):\n",
    "    print(type(two))\n",
    "    print(two)\n",
    "    print(one)\n",
    "    print(type(one))\n",
    "change(1,2,3,4)"
   ]
  },
  {
   "cell_type": "code",
   "execution_count": 60,
   "metadata": {},
   "outputs": [],
   "source": [
    "#* passed dynamic values created a tuple other is int\n"
   ]
  },
  {
   "cell_type": "code",
   "execution_count": 61,
   "metadata": {},
   "outputs": [
    {
     "name": "stdout",
     "output_type": "stream",
     "text": [
      "<class 'dict'>\n"
     ]
    }
   ],
   "source": [
    "#41\n",
    "def find(a, **b):\n",
    "    print(type(b))\n",
    "find('letters',A='1',B='2')"
   ]
  },
  {
   "cell_type": "code",
   "execution_count": 62,
   "metadata": {},
   "outputs": [],
   "source": [
    "# key and value passing value to a function created a dictionary in function body.. thats great"
   ]
  },
  {
   "cell_type": "code",
   "execution_count": 64,
   "metadata": {},
   "outputs": [
    {
     "name": "stdout",
     "output_type": "stream",
     "text": [
      "[0]\n",
      "[0, 1]\n",
      "[0, 1, 2]\n"
     ]
    }
   ],
   "source": [
    "#42\n",
    "def foo(i, x=[]):\n",
    "    x.append(i)\n",
    "    return x\n",
    "for i in range(3):\n",
    "    print(foo(i))"
   ]
  },
  {
   "cell_type": "code",
   "execution_count": 65,
   "metadata": {},
   "outputs": [
    {
     "data": {
      "text/plain": [
       "15"
      ]
     },
     "execution_count": 65,
     "metadata": {},
     "output_type": "execute_result"
    }
   ],
   "source": [
    "#43\n",
    "(3*(1+2)**2-(2**2)*3)"
   ]
  },
  {
   "cell_type": "code",
   "execution_count": 66,
   "metadata": {},
   "outputs": [],
   "source": [
    "#PEMDAS"
   ]
  },
  {
   "cell_type": "code",
   "execution_count": 67,
   "metadata": {},
   "outputs": [],
   "source": [
    "#44 ANS c,d,e"
   ]
  },
  {
   "cell_type": "code",
   "execution_count": 69,
   "metadata": {},
   "outputs": [],
   "source": [
    "#45 ANs b,c"
   ]
  },
  {
   "cell_type": "code",
   "execution_count": 70,
   "metadata": {},
   "outputs": [
    {
     "data": {
      "text/plain": [
       "6"
      ]
     },
     "execution_count": 70,
     "metadata": {},
     "output_type": "execute_result"
    }
   ],
   "source": [
    "import random\n",
    "random.randint(5, 11) # randint(start, end)"
   ]
  },
  {
   "cell_type": "code",
   "execution_count": 71,
   "metadata": {},
   "outputs": [
    {
     "data": {
      "text/plain": [
       "6"
      ]
     },
     "execution_count": 71,
     "metadata": {},
     "output_type": "execute_result"
    }
   ],
   "source": [
    "random.randrange(5, 12, 1)"
   ]
  },
  {
   "cell_type": "code",
   "execution_count": 73,
   "metadata": {},
   "outputs": [
    {
     "name": "stdout",
     "output_type": "stream",
     "text": [
      "Enter your marks? 33\n",
      "Your Grade is E\n"
     ]
    }
   ],
   "source": [
    "#46\n",
    "marks = int(input('Enter your marks? '))\n",
    "if marks >= 90:\n",
    "    print('Your Grade is A')\n",
    "elif marks > 80:\n",
    "    print('Your Grade is B')\n",
    "elif marks > 70:\n",
    "    print('Your Grade is C')\n",
    "elif marks > 60:\n",
    "    print('Your Grade is D')\n",
    "else:\n",
    "    print('Your Grade is E')"
   ]
  },
  {
   "cell_type": "code",
   "execution_count": null,
   "metadata": {},
   "outputs": [],
   "source": []
  }
 ],
 "metadata": {
  "kernelspec": {
   "display_name": "Python 3",
   "language": "python",
   "name": "python3"
  },
  "language_info": {
   "codemirror_mode": {
    "name": "ipython",
    "version": 3
   },
   "file_extension": ".py",
   "mimetype": "text/x-python",
   "name": "python",
   "nbconvert_exporter": "python",
   "pygments_lexer": "ipython3",
   "version": "3.7.4"
  }
 },
 "nbformat": 4,
 "nbformat_minor": 2
}
